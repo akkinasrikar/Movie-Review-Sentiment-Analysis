{
  "nbformat": 4,
  "nbformat_minor": 0,
  "metadata": {
    "colab": {
      "name": "Text classification with an RNN",
      "provenance": [],
      "collapsed_sections": []
    },
    "kernelspec": {
      "name": "python3",
      "display_name": "Python 3"
    },
    "accelerator": "GPU"
  },
  "cells": [
    {
      "cell_type": "code",
      "metadata": {
        "id": "uE8hD1YmiQza"
      },
      "source": [
        "import numpy as np\r\n",
        "import tensorflow_datasets as tfds\r\n",
        "import tensorflow as tf\r\n",
        "import matplotlib.pyplot as plt"
      ],
      "execution_count": 1,
      "outputs": []
    },
    {
      "cell_type": "code",
      "metadata": {
        "id": "38cJ2Wg3ibzM"
      },
      "source": [
        "tfds.disable_progress_bar()"
      ],
      "execution_count": 2,
      "outputs": []
    },
    {
      "cell_type": "code",
      "metadata": {
        "id": "s0kbeWbGilcg"
      },
      "source": [
        "def plot_graphs(history, metric):\r\n",
        "  plt.plot(history.history[metric])\r\n",
        "  plt.plot(history.history['val_'+metric], '')\r\n",
        "  plt.xlabel(\"Epochs\")\r\n",
        "  plt.ylabel(metric)\r\n",
        "  plt.legend([metric, 'val_'+metric])"
      ],
      "execution_count": 3,
      "outputs": []
    },
    {
      "cell_type": "code",
      "metadata": {
        "colab": {
          "base_uri": "https://localhost:8080/"
        },
        "id": "dq2ozQA3i1Ey",
        "outputId": "7c764865-a8a9-45f5-9561-3ed773f8817d"
      },
      "source": [
        "dataset,info=tfds.load('imdb_reviews',with_info=True,as_supervised=True)"
      ],
      "execution_count": 4,
      "outputs": [
        {
          "output_type": "stream",
          "text": [
            "\u001b[1mDownloading and preparing dataset imdb_reviews/plain_text/1.0.0 (download: 80.23 MiB, generated: Unknown size, total: 80.23 MiB) to /root/tensorflow_datasets/imdb_reviews/plain_text/1.0.0...\u001b[0m\n",
            "Shuffling and writing examples to /root/tensorflow_datasets/imdb_reviews/plain_text/1.0.0.incompleteX5J6G8/imdb_reviews-train.tfrecord\n",
            "Shuffling and writing examples to /root/tensorflow_datasets/imdb_reviews/plain_text/1.0.0.incompleteX5J6G8/imdb_reviews-test.tfrecord\n",
            "Shuffling and writing examples to /root/tensorflow_datasets/imdb_reviews/plain_text/1.0.0.incompleteX5J6G8/imdb_reviews-unsupervised.tfrecord\n"
          ],
          "name": "stdout"
        },
        {
          "output_type": "stream",
          "text": [
            "WARNING:absl:Dataset is using deprecated text encoder API which will be removed soon. Please use the plain_text version of the dataset and migrate to `tensorflow_text`.\n"
          ],
          "name": "stderr"
        },
        {
          "output_type": "stream",
          "text": [
            "\u001b[1mDataset imdb_reviews downloaded and prepared to /root/tensorflow_datasets/imdb_reviews/plain_text/1.0.0. Subsequent calls will reuse this data.\u001b[0m\n"
          ],
          "name": "stdout"
        }
      ]
    },
    {
      "cell_type": "code",
      "metadata": {
        "id": "WbOfXPVzkznw"
      },
      "source": [
        "train_dataset,test_dataset=dataset['train'],dataset['test']"
      ],
      "execution_count": 5,
      "outputs": []
    },
    {
      "cell_type": "code",
      "metadata": {
        "colab": {
          "base_uri": "https://localhost:8080/"
        },
        "id": "xua4pSl1k-Nj",
        "outputId": "210351b2-2313-4ba4-a7cb-f2a58d7c8b31"
      },
      "source": [
        "train_dataset.element_spec"
      ],
      "execution_count": 6,
      "outputs": [
        {
          "output_type": "execute_result",
          "data": {
            "text/plain": [
              "(TensorSpec(shape=(), dtype=tf.string, name=None),\n",
              " TensorSpec(shape=(), dtype=tf.int64, name=None))"
            ]
          },
          "metadata": {
            "tags": []
          },
          "execution_count": 6
        }
      ]
    },
    {
      "cell_type": "code",
      "metadata": {
        "colab": {
          "base_uri": "https://localhost:8080/"
        },
        "id": "ZtyM9RUOlaQY",
        "outputId": "e853f4dc-f1e1-4d0b-86f1-1da7d095bd11"
      },
      "source": [
        "for text,label in train_dataset.take(1):\r\n",
        "  print(\"text: \",text.numpy())\r\n",
        "  print(\"label: \",label.numpy())\r\n"
      ],
      "execution_count": 7,
      "outputs": [
        {
          "output_type": "stream",
          "text": [
            "text:  b\"This was an absolutely terrible movie. Don't be lured in by Christopher Walken or Michael Ironside. Both are great actors, but this must simply be their worst role in history. Even their great acting could not redeem this movie's ridiculous storyline. This movie is an early nineties US propaganda piece. The most pathetic scenes were those when the Columbian rebels were making their cases for revolutions. Maria Conchita Alonso appeared phony, and her pseudo-love affair with Walken was nothing but a pathetic emotional plug in a movie that was devoid of any real meaning. I am disappointed that there are movies like this, ruining actor's like Christopher Walken's good name. I could barely sit through it.\"\n",
            "label:  0\n"
          ],
          "name": "stdout"
        }
      ]
    },
    {
      "cell_type": "code",
      "metadata": {
        "id": "CxG6bN9FmN4m"
      },
      "source": [
        "BUFFER_SIZE = 10000\r\n",
        "BATCH_SIZE = 64"
      ],
      "execution_count": 8,
      "outputs": []
    },
    {
      "cell_type": "code",
      "metadata": {
        "id": "CsCU9V8fnKPB"
      },
      "source": [
        "train_dataset=train_dataset.shuffle(BUFFER_SIZE).batch(BATCH_SIZE).prefetch(tf.data.AUTOTUNE)\r\n",
        "test_dataset=test_dataset.batch(BATCH_SIZE).prefetch(tf.data.AUTOTUNE)"
      ],
      "execution_count": 9,
      "outputs": []
    },
    {
      "cell_type": "code",
      "metadata": {
        "colab": {
          "base_uri": "https://localhost:8080/"
        },
        "id": "kp-_8lYqnigB",
        "outputId": "f7cdcddd-a486-4ec1-b51c-7b8b73435ae3"
      },
      "source": [
        "for example, label in train_dataset.take(1):\r\n",
        "  print('texts: ', example.numpy()[:3])\r\n",
        "  print()\r\n",
        "  print('labels: ', label.numpy()[:3])"
      ],
      "execution_count": 10,
      "outputs": [
        {
          "output_type": "stream",
          "text": [
            "texts:  [b\"I only watched this film from beginning to end because I promised a friend I would. It lacks even unintentional entertainment value that many bad films have. It may be the worst film I have ever seen. I'm surprised a distributor put their name on it.\"\n",
            " b\"Only the glandular secretions -- and please don't ask for any more details -- of young virgins can keep the rapidly deteriorating body and mind of the crazed old amateur horticulturalist's wife fresh and youthful. Since, like most people except those taking part in medical trials, virgins seldom give up their secretions willingly, Dr. Lorenz (Bela Lugosi) arranges for them to be abducted and preserved. He'll do the extracting himself. <br /><br />What a great cheese ball of a premise for a low budget horror movie. If The Corpse Vanishes turns out not to be the Havarti of horror, as a plain limburger it leaves an interesting aftertaste. <br /><br />Sure, the acting is almost awful except for the actors fortunate enough to be playing the crazed dwarf (Angelo Rossitto, who later played The Master in Mad Max Beyond Thunderdome); his crazed brute of a brother, Angel (Frank Moran), who grunts a lot and has a fetish for the virgins' hair; the crazed mother of the two (Minerva Urecal); the crazed wife (Elizabeth Russell), who sleeps in a plush coffin and, of course, the crazed doctor (Lugosi). <br /><br />An enterprising young reporter, Patricia Hunter (Luana Walters) tracks down the doctor because of a strange orchid with a peculiarly sweet odor that had been worn by the victims. When the doctor and his wife invite Pat to stay the night, a raging storm immediately breaks out. That clue tells us some raging violence is about to erupt inside. Since it's well known that in Hollywood at this time all unmarried young women were virgins, Pat may have some unpleasant surprises to deal with. They include dark passages, a crusty laboratory where a near dead virgin is stored, a basement mausoleum and, later, a direct threat to Patricia's own glandular secretions. If she survives, what a story she'll have to give her editor. <br /><br />If you sample this moist slice of moldy Velveeta (and why not? Don't be superior), don't judge Bela Lugosi by the company he keeps here. He had a huge impact in Dracula (1931), but my favorite movie of his is The Black Cat (1934). As Dr. Vitas Werdegast he's a sad, ironic man protective of his two young friends. When he finally takes a scalpel to Hjalmar Poelzig (Boris Karloff) and begins to flay the man alive, ah, well, it's a great scene.\"\n",
            " b'The saddest thing about this \"tribute\" is that almost all the singers (including the otherwise incredibly talented Nick Cave) seem to have missed the whole point where Cohen\\'s intensity lies: by delivering his lines in an almost tuneless poise, Cohen transmits the full extent of his poetry, his irony, his all-round humanity, laughter and tears in one.<br /><br />To see some of these singer upstarts make convoluted suffering faces, launch their pathetic squeals in the patent effort to scream \"I\\'m a singer!,\" is a true pain. It\\'s the same feeling many of you probably had listening in to some horrendous operatic versions of simple songs such as Lennon\\'s \"Imagine.\" Nothing, simply nothing gets close to the simplicity and directness of the original. If there is a form of art that doesn\\'t need embellishments, it\\'s Cohen\\'s art. Embellishments cast it in the street looking like the tasteless make-up of sex for sale.<br /><br />In this Cohen\\'s tribute I found myself suffering and suffering through pitiful tributes and awful reinterpretations, all of them entirely lacking the original irony of the master and, if truth be told, several of these singers sounded as if they had been recruited at some asylum talent show. It\\'s Cohen doing a tribute to them by letting them sing his material, really, not the other way around: they may have been friends, or his daughter\\'s, he could have become very tender-hearted and in the mood for a gift. Too bad it didn\\'t stay in the family.<br /><br />Fortunately, but only at the very end, Cohen himself performed his majestic \"Tower of Song,\" but even that flower was spoiled by the totally incongruous background of the U2, all of them carrying the expression that bored kids have when they visit their poor grandpa at the nursing home.<br /><br />A sad show, really, and sadder if you truly love Cohen as I do.']\n",
            "\n",
            "labels:  [0 0 0]\n"
          ],
          "name": "stdout"
        }
      ]
    },
    {
      "cell_type": "code",
      "metadata": {
        "id": "Z7-ns9Rsnunz"
      },
      "source": [
        "VOCAB_SIZE=1000\r\n",
        "encoder=tf.keras.layers.experimental.preprocessing.TextVectorization(\r\n",
        "    max_tokens=VOCAB_SIZE)\r\n",
        "encoder.adapt(train_dataset.map(lambda text,label: text))"
      ],
      "execution_count": 11,
      "outputs": []
    },
    {
      "cell_type": "code",
      "metadata": {
        "colab": {
          "base_uri": "https://localhost:8080/"
        },
        "id": "hMJT2Kn3GwXt",
        "outputId": "b3a7e665-c67b-437f-b5d2-f451595734da"
      },
      "source": [
        "vocab=np.array(encoder.get_vocabulary())\r\n",
        "vocab[0:25]"
      ],
      "execution_count": 12,
      "outputs": [
        {
          "output_type": "execute_result",
          "data": {
            "text/plain": [
              "array(['', '[UNK]', 'the', 'and', 'a', 'of', 'to', 'is', 'in', 'it', 'i',\n",
              "       'this', 'that', 'br', 'was', 'as', 'for', 'with', 'movie', 'but',\n",
              "       'film', 'on', 'not', 'you', 'are'], dtype='<U14')"
            ]
          },
          "metadata": {
            "tags": []
          },
          "execution_count": 12
        }
      ]
    },
    {
      "cell_type": "code",
      "metadata": {
        "colab": {
          "base_uri": "https://localhost:8080/"
        },
        "id": "ghiaE_8oG7Ah",
        "outputId": "8dda2bca-64b8-4603-caa1-765e01022436"
      },
      "source": [
        "encoded_example = encoder(example)[:3].numpy()\r\n",
        "encoded_example"
      ],
      "execution_count": 13,
      "outputs": [
        {
          "output_type": "execute_result",
          "data": {
            "text/plain": [
              "array([[ 10,  61, 284, ...,   0,   0,   0],\n",
              "       [ 61,   2,   1, ...,   0,   0,   0],\n",
              "       [  2,   1, 151, ...,   0,   0,   0]])"
            ]
          },
          "metadata": {
            "tags": []
          },
          "execution_count": 13
        }
      ]
    },
    {
      "cell_type": "code",
      "metadata": {
        "colab": {
          "base_uri": "https://localhost:8080/"
        },
        "id": "B7hGsJiMHEct",
        "outputId": "ee003a5d-1d8d-4fe0-e24e-09e3aa6f6f2b"
      },
      "source": [
        "for n in range(3):\r\n",
        "  print(\"Original: \", example[n].numpy())\r\n",
        "  print(\"Round-trip: \", \" \".join(vocab[encoded_example[n]]))\r\n",
        "  print()"
      ],
      "execution_count": 14,
      "outputs": [
        {
          "output_type": "stream",
          "text": [
            "Original:  b\"I only watched this film from beginning to end because I promised a friend I would. It lacks even unintentional entertainment value that many bad films have. It may be the worst film I have ever seen. I'm surprised a distributor put their name on it.\"\n",
            "Round-trip:  i only watched this film from beginning to end because i [UNK] a friend i would it [UNK] even [UNK] entertainment [UNK] that many bad films have it may be the worst film i have ever seen im surprised a [UNK] put their name on it                                                                                                                                                                                                                                                                                                                                                                                                                                                                                                                                                             \n",
            "\n",
            "Original:  b\"Only the glandular secretions -- and please don't ask for any more details -- of young virgins can keep the rapidly deteriorating body and mind of the crazed old amateur horticulturalist's wife fresh and youthful. Since, like most people except those taking part in medical trials, virgins seldom give up their secretions willingly, Dr. Lorenz (Bela Lugosi) arranges for them to be abducted and preserved. He'll do the extracting himself. <br /><br />What a great cheese ball of a premise for a low budget horror movie. If The Corpse Vanishes turns out not to be the Havarti of horror, as a plain limburger it leaves an interesting aftertaste. <br /><br />Sure, the acting is almost awful except for the actors fortunate enough to be playing the crazed dwarf (Angelo Rossitto, who later played The Master in Mad Max Beyond Thunderdome); his crazed brute of a brother, Angel (Frank Moran), who grunts a lot and has a fetish for the virgins' hair; the crazed mother of the two (Minerva Urecal); the crazed wife (Elizabeth Russell), who sleeps in a plush coffin and, of course, the crazed doctor (Lugosi). <br /><br />An enterprising young reporter, Patricia Hunter (Luana Walters) tracks down the doctor because of a strange orchid with a peculiarly sweet odor that had been worn by the victims. When the doctor and his wife invite Pat to stay the night, a raging storm immediately breaks out. That clue tells us some raging violence is about to erupt inside. Since it's well known that in Hollywood at this time all unmarried young women were virgins, Pat may have some unpleasant surprises to deal with. They include dark passages, a crusty laboratory where a near dead virgin is stored, a basement mausoleum and, later, a direct threat to Patricia's own glandular secretions. If she survives, what a story she'll have to give her editor. <br /><br />If you sample this moist slice of moldy Velveeta (and why not? Don't be superior), don't judge Bela Lugosi by the company he keeps here. He had a huge impact in Dracula (1931), but my favorite movie of his is The Black Cat (1934). As Dr. Vitas Werdegast he's a sad, ironic man protective of his two young friends. When he finally takes a scalpel to Hjalmar Poelzig (Boris Karloff) and begins to flay the man alive, ah, well, it's a great scene.\"\n",
            "Round-trip:  only the [UNK] [UNK] and please dont ask for any more [UNK] of young [UNK] can keep the [UNK] [UNK] body and mind of the [UNK] old [UNK] [UNK] wife [UNK] and [UNK] since like most people except those taking part in [UNK] [UNK] [UNK] [UNK] give up their [UNK] [UNK] dr [UNK] [UNK] [UNK] [UNK] for them to be [UNK] and [UNK] hell do the [UNK] himself br br what a great [UNK] [UNK] of a premise for a low budget horror movie if the [UNK] [UNK] turns out not to be the [UNK] of horror as a [UNK] [UNK] it leaves an interesting [UNK] br br sure the acting is almost awful except for the actors [UNK] enough to be playing the [UNK] [UNK] [UNK] [UNK] who later played the [UNK] in [UNK] [UNK] beyond [UNK] his [UNK] [UNK] of a brother [UNK] [UNK] [UNK] who [UNK] a lot and has a [UNK] for the [UNK] [UNK] the [UNK] mother of the two [UNK] [UNK] the [UNK] wife [UNK] [UNK] who [UNK] in a [UNK] [UNK] and of course the [UNK] [UNK] [UNK] br br an [UNK] young [UNK] [UNK] [UNK] [UNK] [UNK] [UNK] down the [UNK] because of a strange [UNK] with a [UNK] [UNK] [UNK] that had been [UNK] by the [UNK] when the [UNK] and his wife [UNK] [UNK] to stay the night a [UNK] [UNK] [UNK] [UNK] out that [UNK] tells us some [UNK] violence is about to [UNK] inside since its well known that in hollywood at this time all [UNK] young women were [UNK] [UNK] may have some [UNK] [UNK] to deal with they [UNK] dark [UNK] a [UNK] [UNK] where a near dead [UNK] is [UNK] a [UNK] [UNK] and later a [UNK] [UNK] to [UNK] own [UNK] [UNK] if she [UNK] what a story [UNK] have to give her [UNK] br br if you [UNK] this [UNK] [UNK] of [UNK] [UNK] and why not dont be [UNK] dont [UNK] [UNK] [UNK] by the [UNK] he keeps here he had a huge [UNK] in [UNK] [UNK] but my favorite movie of his is the black [UNK] [UNK] as dr [UNK] [UNK] hes a sad [UNK] man [UNK] of his two young friends when he finally takes a [UNK] to [UNK] [UNK] [UNK] [UNK] and begins to [UNK] the man [UNK] [UNK] well its a great scene                                                                                                                                                                                                \n",
            "\n",
            "Original:  b'The saddest thing about this \"tribute\" is that almost all the singers (including the otherwise incredibly talented Nick Cave) seem to have missed the whole point where Cohen\\'s intensity lies: by delivering his lines in an almost tuneless poise, Cohen transmits the full extent of his poetry, his irony, his all-round humanity, laughter and tears in one.<br /><br />To see some of these singer upstarts make convoluted suffering faces, launch their pathetic squeals in the patent effort to scream \"I\\'m a singer!,\" is a true pain. It\\'s the same feeling many of you probably had listening in to some horrendous operatic versions of simple songs such as Lennon\\'s \"Imagine.\" Nothing, simply nothing gets close to the simplicity and directness of the original. If there is a form of art that doesn\\'t need embellishments, it\\'s Cohen\\'s art. Embellishments cast it in the street looking like the tasteless make-up of sex for sale.<br /><br />In this Cohen\\'s tribute I found myself suffering and suffering through pitiful tributes and awful reinterpretations, all of them entirely lacking the original irony of the master and, if truth be told, several of these singers sounded as if they had been recruited at some asylum talent show. It\\'s Cohen doing a tribute to them by letting them sing his material, really, not the other way around: they may have been friends, or his daughter\\'s, he could have become very tender-hearted and in the mood for a gift. Too bad it didn\\'t stay in the family.<br /><br />Fortunately, but only at the very end, Cohen himself performed his majestic \"Tower of Song,\" but even that flower was spoiled by the totally incongruous background of the U2, all of them carrying the expression that bored kids have when they visit their poor grandpa at the nursing home.<br /><br />A sad show, really, and sadder if you truly love Cohen as I do.'\n",
            "Round-trip:  the [UNK] thing about this [UNK] is that almost all the [UNK] including the otherwise incredibly [UNK] [UNK] [UNK] seem to have [UNK] the whole point where [UNK] [UNK] [UNK] by [UNK] his lines in an almost [UNK] [UNK] [UNK] [UNK] the full [UNK] of his [UNK] his [UNK] his [UNK] [UNK] [UNK] and [UNK] in [UNK] br to see some of these [UNK] [UNK] make [UNK] [UNK] [UNK] [UNK] their [UNK] [UNK] in the [UNK] effort to [UNK] im a [UNK] is a true [UNK] its the same feeling many of you probably had [UNK] in to some [UNK] [UNK] [UNK] of simple songs such as [UNK] imagine nothing simply nothing gets close to the [UNK] and [UNK] of the original if there is a form of art that doesnt need [UNK] its [UNK] art [UNK] cast it in the street looking like the [UNK] [UNK] of sex for [UNK] br in this [UNK] [UNK] i found myself [UNK] and [UNK] through [UNK] [UNK] and awful [UNK] all of them [UNK] [UNK] the original [UNK] of the [UNK] and if truth be told several of these [UNK] [UNK] as if they had been [UNK] at some [UNK] talent show its [UNK] doing a [UNK] to them by [UNK] them [UNK] his material really not the other way around they may have been friends or his [UNK] he could have become very [UNK] and in the [UNK] for a [UNK] too bad it didnt stay in the [UNK] br [UNK] but only at the very end [UNK] himself [UNK] his [UNK] [UNK] of song but even that [UNK] was [UNK] by the totally [UNK] background of the [UNK] all of them [UNK] the [UNK] that [UNK] kids have when they [UNK] their poor [UNK] at the [UNK] [UNK] br a sad show really and [UNK] if you truly love [UNK] as i do                                                                                                                                                                                                                                                                                  \n",
            "\n"
          ],
          "name": "stdout"
        }
      ]
    },
    {
      "cell_type": "code",
      "metadata": {
        "id": "TaVsL7q0HOAX"
      },
      "source": [
        "model=tf.keras.Sequential([encoder,\r\n",
        "                          tf.keras.layers.Embedding(\r\n",
        "                          input_dim=len(encoder.get_vocabulary()),\r\n",
        "                          output_dim=64,mask_zero=True),\r\n",
        "                          tf.keras.layers.Bidirectional(tf.keras.layers.LSTM(64)),\r\n",
        "                          tf.keras.layers.Dense(64, activation='relu'),\r\n",
        "                          tf.keras.layers.Dense(1)])"
      ],
      "execution_count": 15,
      "outputs": []
    },
    {
      "cell_type": "code",
      "metadata": {
        "colab": {
          "base_uri": "https://localhost:8080/"
        },
        "id": "4WVhnW2MIXtL",
        "outputId": "52e1c8f6-666d-4212-bba7-c0e6e92d005d"
      },
      "source": [
        "print([layer.supports_masking for layer in model.layers])"
      ],
      "execution_count": 16,
      "outputs": [
        {
          "output_type": "stream",
          "text": [
            "[False, True, True, True, True]\n"
          ],
          "name": "stdout"
        }
      ]
    },
    {
      "cell_type": "code",
      "metadata": {
        "colab": {
          "base_uri": "https://localhost:8080/"
        },
        "id": "TefaMuCSInFk",
        "outputId": "875c1433-8258-4179-f429-f7949f3d2407"
      },
      "source": [
        "sample_text = ('The movie was cool. The animation and the graphics '\r\n",
        "               'were out of this world. I would recommend this movie.')\r\n",
        "predictions = model.predict(np.array([sample_text]))\r\n",
        "print(predictions[0])"
      ],
      "execution_count": 17,
      "outputs": [
        {
          "output_type": "stream",
          "text": [
            "[0.01359731]\n"
          ],
          "name": "stdout"
        }
      ]
    },
    {
      "cell_type": "code",
      "metadata": {
        "colab": {
          "base_uri": "https://localhost:8080/"
        },
        "id": "sf13s0aAItNQ",
        "outputId": "ad68e21b-1347-440a-9a98-f501bff6a154"
      },
      "source": [
        "padding = \"the \" * 2000\r\n",
        "predictions = model.predict(np.array([sample_text, padding]))\r\n",
        "print(predictions[0])"
      ],
      "execution_count": 18,
      "outputs": [
        {
          "output_type": "stream",
          "text": [
            "[0.0135973]\n"
          ],
          "name": "stdout"
        }
      ]
    },
    {
      "cell_type": "code",
      "metadata": {
        "id": "cMvnUDvdI2E9"
      },
      "source": [
        "model.compile(loss=tf.keras.losses.BinaryCrossentropy(from_logits=True),\r\n",
        "              optimizer=tf.keras.optimizers.Adam(1e-4),\r\n",
        "              metrics=['accuracy'])"
      ],
      "execution_count": 19,
      "outputs": []
    },
    {
      "cell_type": "code",
      "metadata": {
        "colab": {
          "base_uri": "https://localhost:8080/"
        },
        "id": "DJTCxzYLI4_s",
        "outputId": "0e88d845-0a01-4e5c-d88c-d0ca86c9913f"
      },
      "source": [
        "history = model.fit(train_dataset, epochs=10,\r\n",
        "                    validation_data=test_dataset, \r\n",
        "                    validation_steps=30)"
      ],
      "execution_count": 20,
      "outputs": [
        {
          "output_type": "stream",
          "text": [
            "Epoch 1/10\n",
            "391/391 [==============================] - 133s 320ms/step - loss: 0.6851 - accuracy: 0.5037 - val_loss: 0.4578 - val_accuracy: 0.7865\n",
            "Epoch 2/10\n",
            "391/391 [==============================] - 123s 313ms/step - loss: 0.4197 - accuracy: 0.8002 - val_loss: 0.3599 - val_accuracy: 0.8286\n",
            "Epoch 3/10\n",
            "391/391 [==============================] - 123s 313ms/step - loss: 0.3452 - accuracy: 0.8469 - val_loss: 0.3361 - val_accuracy: 0.8484\n",
            "Epoch 4/10\n",
            "391/391 [==============================] - 122s 311ms/step - loss: 0.3169 - accuracy: 0.8618 - val_loss: 0.3294 - val_accuracy: 0.8562\n",
            "Epoch 5/10\n",
            "391/391 [==============================] - 122s 312ms/step - loss: 0.3091 - accuracy: 0.8683 - val_loss: 0.3255 - val_accuracy: 0.8495\n",
            "Epoch 6/10\n",
            "391/391 [==============================] - 123s 313ms/step - loss: 0.3066 - accuracy: 0.8669 - val_loss: 0.3280 - val_accuracy: 0.8542\n",
            "Epoch 7/10\n",
            "391/391 [==============================] - 123s 312ms/step - loss: 0.3001 - accuracy: 0.8695 - val_loss: 0.3215 - val_accuracy: 0.8578\n",
            "Epoch 8/10\n",
            "391/391 [==============================] - 122s 310ms/step - loss: 0.3004 - accuracy: 0.8712 - val_loss: 0.3181 - val_accuracy: 0.8557\n",
            "Epoch 9/10\n",
            "391/391 [==============================] - 123s 312ms/step - loss: 0.2947 - accuracy: 0.8729 - val_loss: 0.3423 - val_accuracy: 0.8552\n",
            "Epoch 10/10\n",
            "391/391 [==============================] - 123s 312ms/step - loss: 0.3006 - accuracy: 0.8711 - val_loss: 0.3285 - val_accuracy: 0.8589\n"
          ],
          "name": "stdout"
        }
      ]
    },
    {
      "cell_type": "code",
      "metadata": {
        "colab": {
          "base_uri": "https://localhost:8080/"
        },
        "id": "3VjKMkWnI8xW",
        "outputId": "a40bc4e3-48e7-497a-e3cb-b29e6c0a6d4f"
      },
      "source": [
        "test_loss, test_acc = model.evaluate(test_dataset)"
      ],
      "execution_count": 21,
      "outputs": [
        {
          "output_type": "stream",
          "text": [
            "391/391 [==============================] - 48s 122ms/step - loss: 0.3239 - accuracy: 0.8639\n"
          ],
          "name": "stdout"
        }
      ]
    },
    {
      "cell_type": "code",
      "metadata": {
        "colab": {
          "base_uri": "https://localhost:8080/"
        },
        "id": "0fzBDgpMONWQ",
        "outputId": "dd74c4bc-7a9e-4790-b4d3-caa46407b68c"
      },
      "source": [
        "print('Test Loss: {}'.format(test_loss))\r\n",
        "print('Test Accuracy: {}'.format(test_acc))"
      ],
      "execution_count": 22,
      "outputs": [
        {
          "output_type": "stream",
          "text": [
            "Test Loss: 0.3238796591758728\n",
            "Test Accuracy: 0.8639199733734131\n"
          ],
          "name": "stdout"
        }
      ]
    },
    {
      "cell_type": "code",
      "metadata": {
        "colab": {
          "base_uri": "https://localhost:8080/",
          "height": 515
        },
        "id": "A0-J_gLpORdO",
        "outputId": "913688ca-7276-4489-8e7f-d597c7150de4"
      },
      "source": [
        "from matplotlib.pyplot import style\r\n",
        "style.use('fivethirtyeight')\r\n",
        "plt.figure(figsize=(16,8))\r\n",
        "plt.subplot(1,2,1)\r\n",
        "plot_graphs(history, 'accuracy')\r\n",
        "plt.ylim(None,1)\r\n",
        "plt.subplot(1,2,2)\r\n",
        "plot_graphs(history, 'loss')\r\n",
        "plt.ylim(0,None)"
      ],
      "execution_count": 25,
      "outputs": [
        {
          "output_type": "execute_result",
          "data": {
            "text/plain": [
              "(0.0, 0.6665318176150322)"
            ]
          },
          "metadata": {
            "tags": []
          },
          "execution_count": 25
        },
        {
          "output_type": "display_data",
          "data": {
            "image/png": "[encoded data removed]",
            "text/plain": [
              "<Figure size 1152x576 with 2 Axes>"
            ]
          },
          "metadata": {
            "tags": []
          }
        }
      ]
    },
    {
      "cell_type": "code",
      "metadata": {
        "colab": {
          "base_uri": "https://localhost:8080/"
        },
        "id": "AjwfLSkYOVR_",
        "outputId": "ff480b70-4f8f-4a24-c31b-8449779c55f4"
      },
      "source": [
        "sample_text = ('The movie was cool. The animation and the graphics '\r\n",
        "               'were out of this world. I would recommend this movie.')\r\n",
        "prediction=model.predict(np.array([sample_text]))\r\n",
        "if prediction[0][0]>0.0:\r\n",
        "  print(\"Positive review\")\r\n",
        "else:\r\n",
        "  print(\"Negative review\")"
      ],
      "execution_count": 29,
      "outputs": [
        {
          "output_type": "stream",
          "text": [
            "Positive review\n"
          ],
          "name": "stdout"
        }
      ]
    },
    {
      "cell_type": "code",
      "metadata": {
        "id": "B4TrKa_VO0M8"
      },
      "source": [
        "model = tf.keras.Sequential([\r\n",
        "    encoder,\r\n",
        "    tf.keras.layers.Embedding(len(encoder.get_vocabulary()), 64, mask_zero=True),\r\n",
        "    tf.keras.layers.Bidirectional(tf.keras.layers.LSTM(64,  return_sequences=True)),\r\n",
        "    tf.keras.layers.Bidirectional(tf.keras.layers.LSTM(32)),\r\n",
        "    tf.keras.layers.Dense(64, activation='relu'),\r\n",
        "    tf.keras.layers.Dropout(0.5),\r\n",
        "    tf.keras.layers.Dense(1)\r\n",
        "])"
      ],
      "execution_count": 30,
      "outputs": []
    },
    {
      "cell_type": "code",
      "metadata": {
        "id": "A2ZY5F5cPEtL"
      },
      "source": [
        "model.compile(loss=tf.keras.losses.BinaryCrossentropy(from_logits=True),\r\n",
        "              optimizer=tf.keras.optimizers.Adam(1e-4),\r\n",
        "              metrics=['accuracy'])"
      ],
      "execution_count": 31,
      "outputs": []
    },
    {
      "cell_type": "code",
      "metadata": {
        "colab": {
          "base_uri": "https://localhost:8080/"
        },
        "id": "0TsQUkQzPGep",
        "outputId": "43657eca-0771-476a-dcb5-1ed933fcbc2a"
      },
      "source": [
        "history = model.fit(train_dataset, epochs=10,\r\n",
        "                    validation_data=test_dataset,\r\n",
        "                    validation_steps=30)"
      ],
      "execution_count": 32,
      "outputs": [
        {
          "output_type": "stream",
          "text": [
            "Epoch 1/10\n",
            "391/391 [==============================] - 253s 596ms/step - loss: 0.6759 - accuracy: 0.5184 - val_loss: 0.4278 - val_accuracy: 0.8057\n",
            "Epoch 2/10\n",
            "391/391 [==============================] - 229s 585ms/step - loss: 0.4023 - accuracy: 0.8200 - val_loss: 0.3531 - val_accuracy: 0.8339\n",
            "Epoch 3/10\n",
            "391/391 [==============================] - 228s 582ms/step - loss: 0.3337 - accuracy: 0.8575 - val_loss: 0.3727 - val_accuracy: 0.8156\n",
            "Epoch 4/10\n",
            "391/391 [==============================] - 229s 583ms/step - loss: 0.3236 - accuracy: 0.8598 - val_loss: 0.3292 - val_accuracy: 0.8583\n",
            "Epoch 5/10\n",
            "391/391 [==============================] - 230s 586ms/step - loss: 0.3097 - accuracy: 0.8654 - val_loss: 0.3285 - val_accuracy: 0.8443\n",
            "Epoch 6/10\n",
            "391/391 [==============================] - 229s 584ms/step - loss: 0.3146 - accuracy: 0.8660 - val_loss: 0.3290 - val_accuracy: 0.8521\n",
            "Epoch 7/10\n",
            "391/391 [==============================] - 230s 586ms/step - loss: 0.3013 - accuracy: 0.8705 - val_loss: 0.3254 - val_accuracy: 0.8542\n",
            "Epoch 8/10\n",
            "391/391 [==============================] - 227s 580ms/step - loss: 0.2963 - accuracy: 0.8710 - val_loss: 0.3353 - val_accuracy: 0.8307\n",
            "Epoch 9/10\n",
            "391/391 [==============================] - 228s 583ms/step - loss: 0.2968 - accuracy: 0.8712 - val_loss: 0.3334 - val_accuracy: 0.8370\n",
            "Epoch 10/10\n",
            "391/391 [==============================] - 228s 583ms/step - loss: 0.2970 - accuracy: 0.8730 - val_loss: 0.3239 - val_accuracy: 0.8526\n"
          ],
          "name": "stdout"
        }
      ]
    },
    {
      "cell_type": "code",
      "metadata": {
        "id": "1Rf3nf3xPIJS"
      },
      "source": [
        "\r\n",
        "from tensorflow.keras.models import model_from_json"
      ],
      "execution_count": 33,
      "outputs": []
    },
    {
      "cell_type": "code",
      "metadata": {
        "colab": {
          "base_uri": "https://localhost:8080/",
          "height": 319
        },
        "id": "ss2pFpCvVrtC",
        "outputId": "3884363a-3360-4329-de6f-78f7749c16f9"
      },
      "source": [
        "model.save('model')"
      ],
      "execution_count": 43,
      "outputs": [
        {
          "output_type": "error",
          "ename": "NotImplementedError",
          "evalue": "ignored",
          "traceback": [
            "\u001b[0;31m---------------------------------------------------------------------------\u001b[0m",
            "\u001b[0;31mNotImplementedError\u001b[0m                       Traceback (most recent call last)",
            "\u001b[0;32m<ipython-input-43-596723284980>\u001b[0m in \u001b[0;36m<module>\u001b[0;34m()\u001b[0m\n\u001b[0;32m----> 1\u001b[0;31m \u001b[0mmodel\u001b[0m\u001b[0;34m.\u001b[0m\u001b[0msave\u001b[0m\u001b[0;34m(\u001b[0m\u001b[0;34m'model.h5'\u001b[0m\u001b[0;34m)\u001b[0m\u001b[0;34m\u001b[0m\u001b[0;34m\u001b[0m\u001b[0m\n\u001b[0m",
            "\u001b[0;32m/usr/local/lib/python3.6/dist-packages/tensorflow/python/keras/engine/training.py\u001b[0m in \u001b[0;36msave\u001b[0;34m(self, filepath, overwrite, include_optimizer, save_format, signatures, options, save_traces)\u001b[0m\n\u001b[1;32m   2000\u001b[0m     \u001b[0;31m# pylint: enable=line-too-long\u001b[0m\u001b[0;34m\u001b[0m\u001b[0;34m\u001b[0m\u001b[0;34m\u001b[0m\u001b[0m\n\u001b[1;32m   2001\u001b[0m     save.save_model(self, filepath, overwrite, include_optimizer, save_format,\n\u001b[0;32m-> 2002\u001b[0;31m                     signatures, options, save_traces)\n\u001b[0m\u001b[1;32m   2003\u001b[0m \u001b[0;34m\u001b[0m\u001b[0m\n\u001b[1;32m   2004\u001b[0m   def save_weights(self,\n",
            "\u001b[0;32m/usr/local/lib/python3.6/dist-packages/tensorflow/python/keras/saving/save.py\u001b[0m in \u001b[0;36msave_model\u001b[0;34m(model, filepath, overwrite, include_optimizer, save_format, signatures, options, save_traces)\u001b[0m\n\u001b[1;32m    152\u001b[0m           'or using `save_weights`.')\n\u001b[1;32m    153\u001b[0m     hdf5_format.save_model_to_hdf5(\n\u001b[0;32m--> 154\u001b[0;31m         model, filepath, overwrite, include_optimizer)\n\u001b[0m\u001b[1;32m    155\u001b[0m   \u001b[0;32melse\u001b[0m\u001b[0;34m:\u001b[0m\u001b[0;34m\u001b[0m\u001b[0;34m\u001b[0m\u001b[0m\n\u001b[1;32m    156\u001b[0m     saved_model_save.save(model, filepath, overwrite, include_optimizer,\n",
            "\u001b[0;32m/usr/local/lib/python3.6/dist-packages/tensorflow/python/keras/saving/hdf5_format.py\u001b[0m in \u001b[0;36msave_model_to_hdf5\u001b[0;34m(model, filepath, overwrite, include_optimizer)\u001b[0m\n\u001b[1;32m    123\u001b[0m     \u001b[0mmodel_weights_group\u001b[0m \u001b[0;34m=\u001b[0m \u001b[0mf\u001b[0m\u001b[0;34m.\u001b[0m\u001b[0mcreate_group\u001b[0m\u001b[0;34m(\u001b[0m\u001b[0;34m'model_weights'\u001b[0m\u001b[0;34m)\u001b[0m\u001b[0;34m\u001b[0m\u001b[0;34m\u001b[0m\u001b[0m\n\u001b[1;32m    124\u001b[0m     \u001b[0mmodel_layers\u001b[0m \u001b[0;34m=\u001b[0m \u001b[0mmodel\u001b[0m\u001b[0;34m.\u001b[0m\u001b[0mlayers\u001b[0m\u001b[0;34m\u001b[0m\u001b[0;34m\u001b[0m\u001b[0m\n\u001b[0;32m--> 125\u001b[0;31m     \u001b[0msave_weights_to_hdf5_group\u001b[0m\u001b[0;34m(\u001b[0m\u001b[0mmodel_weights_group\u001b[0m\u001b[0;34m,\u001b[0m \u001b[0mmodel_layers\u001b[0m\u001b[0;34m)\u001b[0m\u001b[0;34m\u001b[0m\u001b[0;34m\u001b[0m\u001b[0m\n\u001b[0m\u001b[1;32m    126\u001b[0m \u001b[0;34m\u001b[0m\u001b[0m\n\u001b[1;32m    127\u001b[0m     \u001b[0;31m# TODO(b/128683857): Add integration tests between tf.keras and external\u001b[0m\u001b[0;34m\u001b[0m\u001b[0;34m\u001b[0m\u001b[0;34m\u001b[0m\u001b[0m\n",
            "\u001b[0;32m/usr/local/lib/python3.6/dist-packages/tensorflow/python/keras/saving/hdf5_format.py\u001b[0m in \u001b[0;36msave_weights_to_hdf5_group\u001b[0;34m(f, layers)\u001b[0m\n\u001b[1;32m    635\u001b[0m   \u001b[0;32mfor\u001b[0m \u001b[0mlayer\u001b[0m \u001b[0;32min\u001b[0m \u001b[0msorted\u001b[0m\u001b[0;34m(\u001b[0m\u001b[0mlayers\u001b[0m\u001b[0;34m,\u001b[0m \u001b[0mkey\u001b[0m\u001b[0;34m=\u001b[0m\u001b[0;32mlambda\u001b[0m \u001b[0mx\u001b[0m\u001b[0;34m:\u001b[0m \u001b[0mx\u001b[0m\u001b[0;34m.\u001b[0m\u001b[0mname\u001b[0m\u001b[0;34m)\u001b[0m\u001b[0;34m:\u001b[0m\u001b[0;34m\u001b[0m\u001b[0;34m\u001b[0m\u001b[0m\n\u001b[1;32m    636\u001b[0m     \u001b[0mg\u001b[0m \u001b[0;34m=\u001b[0m \u001b[0mf\u001b[0m\u001b[0;34m.\u001b[0m\u001b[0mcreate_group\u001b[0m\u001b[0;34m(\u001b[0m\u001b[0mlayer\u001b[0m\u001b[0;34m.\u001b[0m\u001b[0mname\u001b[0m\u001b[0;34m)\u001b[0m\u001b[0;34m\u001b[0m\u001b[0;34m\u001b[0m\u001b[0m\n\u001b[0;32m--> 637\u001b[0;31m     \u001b[0mweights\u001b[0m \u001b[0;34m=\u001b[0m \u001b[0m_legacy_weights\u001b[0m\u001b[0;34m(\u001b[0m\u001b[0mlayer\u001b[0m\u001b[0;34m)\u001b[0m\u001b[0;34m\u001b[0m\u001b[0;34m\u001b[0m\u001b[0m\n\u001b[0m\u001b[1;32m    638\u001b[0m     \u001b[0mweight_values\u001b[0m \u001b[0;34m=\u001b[0m \u001b[0mK\u001b[0m\u001b[0;34m.\u001b[0m\u001b[0mbatch_get_value\u001b[0m\u001b[0;34m(\u001b[0m\u001b[0mweights\u001b[0m\u001b[0;34m)\u001b[0m\u001b[0;34m\u001b[0m\u001b[0;34m\u001b[0m\u001b[0m\n\u001b[1;32m    639\u001b[0m     \u001b[0mweight_names\u001b[0m \u001b[0;34m=\u001b[0m \u001b[0;34m[\u001b[0m\u001b[0mw\u001b[0m\u001b[0;34m.\u001b[0m\u001b[0mname\u001b[0m\u001b[0;34m.\u001b[0m\u001b[0mencode\u001b[0m\u001b[0;34m(\u001b[0m\u001b[0;34m'utf8'\u001b[0m\u001b[0;34m)\u001b[0m \u001b[0;32mfor\u001b[0m \u001b[0mw\u001b[0m \u001b[0;32min\u001b[0m \u001b[0mweights\u001b[0m\u001b[0;34m]\u001b[0m\u001b[0;34m\u001b[0m\u001b[0;34m\u001b[0m\u001b[0m\n",
            "\u001b[0;32m/usr/local/lib/python3.6/dist-packages/tensorflow/python/keras/saving/hdf5_format.py\u001b[0m in \u001b[0;36m_legacy_weights\u001b[0;34m(layer)\u001b[0m\n\u001b[1;32m    884\u001b[0m         \u001b[0;34m'Save or restore weights that is not an instance of `tf.Variable` is '\u001b[0m\u001b[0;34m\u001b[0m\u001b[0;34m\u001b[0m\u001b[0m\n\u001b[1;32m    885\u001b[0m         \u001b[0;34m'not supported in h5, use `save_format=\\'tf\\'` instead. Got a model '\u001b[0m\u001b[0;34m\u001b[0m\u001b[0;34m\u001b[0m\u001b[0m\n\u001b[0;32m--> 886\u001b[0;31m         'or layer {} with weights {}'.format(layer.__class__.__name__, weights))\n\u001b[0m\u001b[1;32m    887\u001b[0m   \u001b[0;32mreturn\u001b[0m \u001b[0mweights\u001b[0m\u001b[0;34m\u001b[0m\u001b[0;34m\u001b[0m\u001b[0m\n",
            "\u001b[0;31mNotImplementedError\u001b[0m: Save or restore weights that is not an instance of `tf.Variable` is not supported in h5, use `save_format='tf'` instead. Got a model or layer TextVectorization with weights [<tensorflow.python.keras.engine.base_layer_utils.TrackableWeightHandler object at 0x7f997d1fbe48>]"
          ]
        }
      ]
    },
    {
      "cell_type": "code",
      "metadata": {
        "id": "v-KoiQ8WXQR3"
      },
      "source": [
        "loaded_model = tf.keras.models.load_model('model')"
      ],
      "execution_count": 40,
      "outputs": []
    },
    {
      "cell_type": "code",
      "metadata": {
        "colab": {
          "base_uri": "https://localhost:8080/"
        },
        "id": "kyIkz5oHXTga",
        "outputId": "f68383ad-727e-4303-e126-9964596a2443"
      },
      "source": [
        "sample_text = ('The movie was cool. The animation and the graphics '\r\n",
        "               'were out of this world. I would recommend this movie.')\r\n",
        "sample_text = ('The movie was not good. The animation and the graphics '\r\n",
        "                    'were terrible. I would not recommend this movie.')\r\n",
        "prediction=loaded_model.predict(np.array([sample_text]))\r\n",
        "if prediction[0][0]>0.0:\r\n",
        "  print(\"Positive review\")\r\n",
        "else:\r\n",
        "  print(\"Negative review\")"
      ],
      "execution_count": 41,
      "outputs": [
        {
          "output_type": "stream",
          "text": [
            "Negative review\n"
          ],
          "name": "stdout"
        }
      ]
    },
    {
      "cell_type": "code",
      "metadata": {
        "colab": {
          "base_uri": "https://localhost:8080/"
        },
        "id": "DrjSNjtcZQl6",
        "outputId": "e88bd6f5-fdbc-4f17-eabf-3e9dd24ef5c5"
      },
      "source": [
        "!zip -r /content/model.zip /content/model"
      ],
      "execution_count": 46,
      "outputs": [
        {
          "output_type": "stream",
          "text": [
            "  adding: content/model/ (stored 0%)\n",
            "  adding: content/model/assets/ (stored 0%)\n",
            "  adding: content/model/saved_model.pb (deflated 90%)\n",
            "  adding: content/model/variables/ (stored 0%)\n",
            "  adding: content/model/variables/variables.index (deflated 69%)\n",
            "  adding: content/model/variables/variables.data-00000-of-00001 (deflated 7%)\n"
          ],
          "name": "stdout"
        }
      ]
    },
    {
      "cell_type": "code",
      "metadata": {
        "colab": {
          "base_uri": "https://localhost:8080/",
          "height": 17
        },
        "id": "qWMHP8QGZ7So",
        "outputId": "ef4c1863-583d-4420-b6f9-173c98aad367"
      },
      "source": [
        "try:\r\n",
        "  from google.colab import files\r\n",
        "  files.download('/content/model.zip')\r\n",
        "except Exception as e:\r\n",
        "  pass"
      ],
      "execution_count": 47,
      "outputs": [
        {
          "output_type": "display_data",
          "data": {
            "application/javascript": [
              "\n",
              "    async function download(id, filename, size) {\n",
              "      if (!google.colab.kernel.accessAllowed) {\n",
              "        return;\n",
              "      }\n",
              "      const div = document.createElement('div');\n",
              "      const label = document.createElement('label');\n",
              "      label.textContent = `Downloading \"${filename}\": `;\n",
              "      div.appendChild(label);\n",
              "      const progress = document.createElement('progress');\n",
              "      progress.max = size;\n",
              "      div.appendChild(progress);\n",
              "      document.body.appendChild(div);\n",
              "\n",
              "      const buffers = [];\n",
              "      let downloaded = 0;\n",
              "\n",
              "      const channel = await google.colab.kernel.comms.open(id);\n",
              "      // Send a message to notify the kernel that we're ready.\n",
              "      channel.send({})\n",
              "\n",
              "      for await (const message of channel.messages) {\n",
              "        // Send a message to notify the kernel that we're ready.\n",
              "        channel.send({})\n",
              "        if (message.buffers) {\n",
              "          for (const buffer of message.buffers) {\n",
              "            buffers.push(buffer);\n",
              "            downloaded += buffer.byteLength;\n",
              "            progress.value = downloaded;\n",
              "          }\n",
              "        }\n",
              "      }\n",
              "      const blob = new Blob(buffers, {type: 'application/binary'});\n",
              "      const a = document.createElement('a');\n",
              "      a.href = window.URL.createObjectURL(blob);\n",
              "      a.download = filename;\n",
              "      div.appendChild(a);\n",
              "      a.click();\n",
              "      div.remove();\n",
              "    }\n",
              "  "
            ],
            "text/plain": [
              "<IPython.core.display.Javascript object>"
            ]
          },
          "metadata": {
            "tags": []
          }
        },
        {
          "output_type": "display_data",
          "data": {
            "application/javascript": [
              "download(\"download_81455c71-ae7d-404f-9c3d-56a4d3507ef9\", \"model.zip\", 3350966)"
            ],
            "text/plain": [
              "<IPython.core.display.Javascript object>"
            ]
          },
          "metadata": {
            "tags": []
          }
        }
      ]
    },
    {
      "cell_type": "code",
      "metadata": {
        "colab": {
          "base_uri": "https://localhost:8080/"
        },
        "id": "4XZFG1L_aHzk",
        "outputId": "3e17de17-d25c-4c3c-f0d8-bde6a1e3a668"
      },
      "source": [
        "test_loss, test_acc = loaded_model.evaluate(test_dataset)"
      ],
      "execution_count": 48,
      "outputs": [
        {
          "output_type": "stream",
          "text": [
            "391/391 [==============================] - 97s 231ms/step - loss: 0.3233 - accuracy: 0.8532\n"
          ],
          "name": "stdout"
        }
      ]
    },
    {
      "cell_type": "code",
      "metadata": {
        "colab": {
          "base_uri": "https://localhost:8080/"
        },
        "id": "S8o2jPzUaT-R",
        "outputId": "44460882-f5cb-4e20-b748-4ace25c061b7"
      },
      "source": [
        "print('Test Loss: {}'.format(test_loss))\r\n",
        "print('Test Accuracy: {}'.format(test_acc))"
      ],
      "execution_count": 49,
      "outputs": [
        {
          "output_type": "stream",
          "text": [
            "Test Loss: 0.3233276307582855\n",
            "Test Accuracy: 0.8532000184059143\n"
          ],
          "name": "stdout"
        }
      ]
    },
    {
      "cell_type": "code",
      "metadata": {
        "colab": {
          "base_uri": "https://localhost:8080/",
          "height": 510
        },
        "id": "dgi_OuH5aYH_",
        "outputId": "1cd4f940-3c98-4612-fd06-c4cdb5dc4000"
      },
      "source": [
        "from matplotlib.pyplot import style\r\n",
        "style.use('fivethirtyeight')\r\n",
        "plt.figure(figsize=(16,8))\r\n",
        "plt.subplot(1,2,1)\r\n",
        "plot_graphs(history, 'accuracy')\r\n",
        "plt.ylim(None,1)\r\n",
        "plt.subplot(1,2,2)\r\n",
        "plot_graphs(history, 'loss')\r\n",
        "plt.ylim(0,None)"
      ],
      "execution_count": 50,
      "outputs": [
        {
          "output_type": "execute_result",
          "data": {
            "text/plain": [
              "(0.0, 0.6296293824911118)"
            ]
          },
          "metadata": {
            "tags": []
          },
          "execution_count": 50
        },
        {
          "output_type": "display_data",
          "data": {
            "image/png": "[encoded data removed]",
            "text/plain": [
              "<Figure size 1152x576 with 2 Axes>"
            ]
          },
          "metadata": {
            "tags": []
          }
        }
      ]
    },
    {
      "cell_type": "code",
      "metadata": {
        "id": "839GEleVaZ3g"
      },
      "source": [
        ""
      ],
      "execution_count": null,
      "outputs": []
    }
  ]
}